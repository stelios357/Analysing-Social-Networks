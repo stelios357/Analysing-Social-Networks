{
  "nbformat": 4,
  "nbformat_minor": 0,
  "metadata": {
    "colab": {
      "name": "SNA_part_2.ipynb",
      "provenance": [],
      "collapsed_sections": []
    },
    "kernelspec": {
      "name": "python3",
      "display_name": "Python 3"
    },
    "language_info": {
      "name": "python"
    }
  },
  "cells": [
    {
      "cell_type": "code",
      "metadata": {
        "id": "ZCdplhvSd-p5"
      },
      "source": [
        "import networkx as nx\n",
        "from networkx.generators.degree_seq import expected_degree_graph\n",
        "from matplotlib import pyplot as plt"
      ],
      "execution_count": null,
      "outputs": []
    },
    {
      "cell_type": "code",
      "metadata": {
        "colab": {
          "base_uri": "https://localhost:8080/"
        },
        "id": "Q37Jckgsi4BS",
        "outputId": "0d49121c-9166-481c-a1d9-f46936abf133"
      },
      "source": [
        "N=1000 # number of nodes\n",
        "k=0\n",
        "degree=[] #list of degree\n",
        "NgbyN=[] # list of Ng / N for corresponding k\n",
        "while k <= 5:\n",
        "    degree.append(round(k,1))\n",
        "    w = [k for i in range(N)]\n",
        "    G = expected_degree_graph(w)\n",
        "    connected_components = (G.subgraph(c) for c in nx.connected_components(G))\n",
        "    giant = max(connected_components, key=len)\n",
        "    Ng = len(giant)\n",
        "    ngbyn = Ng/N\n",
        "    print(\"Degree = \"+ str(round(k,1)) + \", Ng = \" + str(Ng) + \", Ng/N = \" + str(ngbyn))\n",
        "    NgbyN.append(ngbyn)\n",
        "    k += .1"
      ],
      "execution_count": null,
      "outputs": [
        {
          "output_type": "stream",
          "text": [
            "Degree = 0, Ng = 1, Ng/N = 0.001\n",
            "Degree = 0.1, Ng = 3, Ng/N = 0.003\n",
            "Degree = 0.2, Ng = 5, Ng/N = 0.005\n",
            "Degree = 0.3, Ng = 10, Ng/N = 0.01\n",
            "Degree = 0.4, Ng = 9, Ng/N = 0.009\n",
            "Degree = 0.5, Ng = 15, Ng/N = 0.015\n",
            "Degree = 0.6, Ng = 16, Ng/N = 0.016\n",
            "Degree = 0.7, Ng = 21, Ng/N = 0.021\n",
            "Degree = 0.8, Ng = 34, Ng/N = 0.034\n",
            "Degree = 0.9, Ng = 27, Ng/N = 0.027\n",
            "Degree = 1.0, Ng = 197, Ng/N = 0.197\n",
            "Degree = 1.1, Ng = 132, Ng/N = 0.132\n",
            "Degree = 1.2, Ng = 381, Ng/N = 0.381\n",
            "Degree = 1.3, Ng = 509, Ng/N = 0.509\n",
            "Degree = 1.4, Ng = 538, Ng/N = 0.538\n",
            "Degree = 1.5, Ng = 640, Ng/N = 0.64\n",
            "Degree = 1.6, Ng = 573, Ng/N = 0.573\n",
            "Degree = 1.7, Ng = 748, Ng/N = 0.748\n",
            "Degree = 1.8, Ng = 722, Ng/N = 0.722\n",
            "Degree = 1.9, Ng = 727, Ng/N = 0.727\n",
            "Degree = 2.0, Ng = 816, Ng/N = 0.816\n",
            "Degree = 2.1, Ng = 828, Ng/N = 0.828\n",
            "Degree = 2.2, Ng = 835, Ng/N = 0.835\n",
            "Degree = 2.3, Ng = 856, Ng/N = 0.856\n",
            "Degree = 2.4, Ng = 888, Ng/N = 0.888\n",
            "Degree = 2.5, Ng = 899, Ng/N = 0.899\n",
            "Degree = 2.6, Ng = 905, Ng/N = 0.905\n",
            "Degree = 2.7, Ng = 934, Ng/N = 0.934\n",
            "Degree = 2.8, Ng = 913, Ng/N = 0.913\n",
            "Degree = 2.9, Ng = 919, Ng/N = 0.919\n",
            "Degree = 3.0, Ng = 942, Ng/N = 0.942\n",
            "Degree = 3.1, Ng = 960, Ng/N = 0.96\n",
            "Degree = 3.2, Ng = 946, Ng/N = 0.946\n",
            "Degree = 3.3, Ng = 952, Ng/N = 0.952\n",
            "Degree = 3.4, Ng = 966, Ng/N = 0.966\n",
            "Degree = 3.5, Ng = 957, Ng/N = 0.957\n",
            "Degree = 3.6, Ng = 974, Ng/N = 0.974\n",
            "Degree = 3.7, Ng = 975, Ng/N = 0.975\n",
            "Degree = 3.8, Ng = 979, Ng/N = 0.979\n",
            "Degree = 3.9, Ng = 971, Ng/N = 0.971\n",
            "Degree = 4.0, Ng = 974, Ng/N = 0.974\n",
            "Degree = 4.1, Ng = 984, Ng/N = 0.984\n",
            "Degree = 4.2, Ng = 985, Ng/N = 0.985\n",
            "Degree = 4.3, Ng = 983, Ng/N = 0.983\n",
            "Degree = 4.4, Ng = 979, Ng/N = 0.979\n",
            "Degree = 4.5, Ng = 993, Ng/N = 0.993\n",
            "Degree = 4.6, Ng = 993, Ng/N = 0.993\n",
            "Degree = 4.7, Ng = 992, Ng/N = 0.992\n",
            "Degree = 4.8, Ng = 995, Ng/N = 0.995\n",
            "Degree = 4.9, Ng = 989, Ng/N = 0.989\n",
            "Degree = 5.0, Ng = 995, Ng/N = 0.995\n"
          ],
          "name": "stdout"
        }
      ]
    },
    {
      "cell_type": "code",
      "metadata": {
        "colab": {
          "base_uri": "https://localhost:8080/",
          "height": 279
        },
        "id": "mEyWVKVOsxJM",
        "outputId": "a0a2251e-f1cd-4d2e-b30e-f44956ec1dce"
      },
      "source": [
        "plt.plot(degree, NgbyN)\n",
        "plt.xlabel(\"Average degree <k>\")\n",
        "plt.ylabel(\"Ng / N\")\n",
        "plt.xlim(0, 5)\n",
        "plt.show()"
      ],
      "execution_count": null,
      "outputs": [
        {
          "output_type": "display_data",
          "data": {
            "image/png": "[encoded data removed]",
            "text/plain": [
              "<Figure size 432x288 with 1 Axes>"
            ]
          },
          "metadata": {
            "tags": [],
            "needs_background": "light"
          }
        }
      ]
    }
  ]
}